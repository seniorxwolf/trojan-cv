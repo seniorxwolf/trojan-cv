{
 "cells": [
  {
   "cell_type": "code",
   "execution_count": 3,
   "metadata": {},
   "outputs": [],
   "source": [
    "import trimesh\n",
    "import os\n",
    "\n",
    "def load_mesh(file_path):\n",
    "    # Load the .glb file\n",
    "    scene_or_mesh = trimesh.load(file_path)\n",
    "    return scene_or_mesh\n",
    "\n",
    "def save_screenshot(mesh, output_path):\n",
    "    # Ensure the output directory exists\n",
    "    output_dir = os.path.dirname(output_path)\n",
    "\n",
    "    # Render the mesh and save it as an image\n",
    "    scene = trimesh.Scene(mesh)\n",
    "    png = scene.save_image(resolution=(1920, 1080), visible=True)\n",
    "    with open(output_path, 'wb') as f:\n",
    "        f.write(png)\n",
    "\n",
    "# Example usage\n",
    "file_path = r'C:\\Users\\Yousef.AlHammadi\\Desktop\\trojan-cv\\assets\\3D\\Set of PVC pipe accessories kitbash\\Each Alone As glb\\Connect90Degree.glb'  # Use the absolute path\n",
    "output_path = r'C:\\Users\\Yousef.AlHammadi\\Desktop\\trojan-cv\\output\\Connect90Degree.png'  # Output path for the image\n",
    "\n",
    "# Verify the file path\n",
    "if not os.path.isfile(file_path):\n",
    "    print(f\"File does not exist: {file_path}\")\n",
    "else:\n",
    "    scene_or_mesh = load_mesh(file_path)\n",
    "    \n",
    "    # Check if the loaded object is a Scene or Mesh\n",
    "    if isinstance(scene_or_mesh, trimesh.Scene):\n",
    "        # If it's a scene, combine all geometries into one\n",
    "        combined = trimesh.util.concatenate([mesh for mesh in scene_or_mesh.geometry.values()])\n",
    "        save_screenshot(combined, output_path)\n",
    "    elif isinstance(scene_or_mesh, trimesh.Trimesh):\n",
    "        # If it's already a mesh, just save it\n",
    "        save_screenshot(scene_or_mesh, output_path)\n",
    "    else:\n",
    "        print(\"Loaded object is neither a Scene nor a Mesh\")"
   ]
  },
  {
   "cell_type": "code",
   "execution_count": null,
   "metadata": {},
   "outputs": [],
   "source": [
    "# this worked, so the .glb file is good to go"
   ]
  }
 ],
 "metadata": {
  "kernelspec": {
   "display_name": "base",
   "language": "python",
   "name": "python3"
  },
  "language_info": {
   "codemirror_mode": {
    "name": "ipython",
    "version": 3
   },
   "file_extension": ".py",
   "mimetype": "text/x-python",
   "name": "python",
   "nbconvert_exporter": "python",
   "pygments_lexer": "ipython3",
   "version": "3.12.4"
  }
 },
 "nbformat": 4,
 "nbformat_minor": 2
}
